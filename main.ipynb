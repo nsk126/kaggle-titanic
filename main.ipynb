{
 "cells": [
  {
   "cell_type": "code",
   "execution_count": 63,
   "metadata": {},
   "outputs": [],
   "source": [
    "import pandas as pd\n",
    "from sklearn.preprocessing import LabelEncoder\n",
    "from sklearn.ensemble import RandomForestClassifier\n",
    "from sklearn.model_selection import train_test_split\n",
    "from sklearn.metrics import accuracy_score"
   ]
  },
  {
   "cell_type": "code",
   "execution_count": 64,
   "metadata": {},
   "outputs": [],
   "source": [
    "train = pd.read_csv(\"train.csv\")\n",
    "test = pd.read_csv(\"test.csv\")"
   ]
  },
  {
   "cell_type": "code",
   "execution_count": 65,
   "metadata": {},
   "outputs": [],
   "source": [
    "# wrapper func for data processing\n",
    "def preprocess(data, train=True):\n",
    "    # drop useless data\n",
    "    data = data.drop(['Ticket', 'Cabin', 'Name'], axis=1)\n",
    "\n",
    "    # fill na data in age with mean\n",
    "    age_mean = data.Age.mean()\n",
    "    data['Age'].fillna(value=age_mean, inplace=True)\n",
    "\n",
    "    # clean Embarked data with default S\n",
    "    data['Embarked'].fillna(value='S', inplace=True)\n",
    "\n",
    "    # clean fare data with mean\n",
    "    fare_mean = data['Fare'].mean()\n",
    "    data['Fare'].fillna(value=fare_mean, inplace=True)\n",
    "\n",
    "    # encode string data with numbers\n",
    "    encoder = LabelEncoder()\n",
    "    data['Embarked'] = encoder.fit_transform(data.Embarked)\n",
    "    data['Sex'] = encoder.fit_transform(data.Sex)\n",
    "\n",
    "    if train:\n",
    "        Y = data['Survived'].values\n",
    "        X = data.drop([\"Survived\", \"PassengerId\"], axis=1) #drop these datapoints, not useful\n",
    "\n",
    "        return X, Y\n",
    "    else:\n",
    "        X = data.drop([\"PassengerId\"], axis=1) #drop these datapoints, not useful\n",
    "\n",
    "        return X"
   ]
  },
  {
   "cell_type": "code",
   "execution_count": 66,
   "metadata": {},
   "outputs": [],
   "source": [
    "# preprocess train and test data\n",
    "X, Y = preprocess(train)\n",
    "X_test = preprocess(test, train=False)"
   ]
  },
  {
   "cell_type": "code",
   "execution_count": 67,
   "metadata": {},
   "outputs": [
    {
     "data": {
      "text/plain": [
       "0.8156424581005587"
      ]
     },
     "execution_count": 67,
     "metadata": {},
     "output_type": "execute_result"
    }
   ],
   "source": [
    "# split and train\n",
    "X_train, X_val, Y_train, Y_val = train_test_split(X, Y, test_size=0.2)\n",
    "\n",
    "clf = RandomForestClassifier(\n",
    "    n_estimators=100,\n",
    "    max_depth=5\n",
    ")\n",
    "\n",
    "clf.fit(X_train, Y_train)\n",
    "\n",
    "pred = clf.predict(X_val)\n",
    "accuracy_score(Y_val, pred)"
   ]
  },
  {
   "cell_type": "code",
   "execution_count": 68,
   "metadata": {},
   "outputs": [],
   "source": [
    "# gen submissions from test data\n",
    "pred = clf.predict(X_test)\n",
    "df = pd.DataFrame(\n",
    "    {\n",
    "        \"PassengerId\": test.PassengerId.values,\n",
    "        \"Survived\": pred\n",
    "    }\n",
    ")"
   ]
  },
  {
   "cell_type": "code",
   "execution_count": 69,
   "metadata": {},
   "outputs": [],
   "source": [
    "df.to_csv(\"submissions.csv\", index=False)"
   ]
  }
 ],
 "metadata": {
  "kernelspec": {
   "display_name": ".venv",
   "language": "python",
   "name": "python3"
  },
  "language_info": {
   "codemirror_mode": {
    "name": "ipython",
    "version": 3
   },
   "file_extension": ".py",
   "mimetype": "text/x-python",
   "name": "python",
   "nbconvert_exporter": "python",
   "pygments_lexer": "ipython3",
   "version": "3.9.13"
  }
 },
 "nbformat": 4,
 "nbformat_minor": 2
}
